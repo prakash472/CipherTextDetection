{
  "cells": [
    {
      "cell_type": "code",
      "source": [
        "from google.colab import drive\n",
        "drive.mount('/content/drive')"
      ],
      "metadata": {
        "colab": {
          "base_uri": "https://localhost:8080/"
        },
        "id": "dmVUNsA0EHaH",
        "outputId": "f5a8126b-79b6-4753-d6af-fb07889eead1"
      },
      "execution_count": 1,
      "outputs": [
        {
          "output_type": "stream",
          "name": "stdout",
          "text": [
            "Mounted at /content/drive\n"
          ]
        }
      ]
    },
    {
      "cell_type": "code",
      "source": [
        "# Here, before running the code please change the Folder name from \"NLPFinal\" to the required one.\n",
        "import os\n",
        "os.chdir(\"/content/drive/MyDrive/NLPFinal\")"
      ],
      "metadata": {
        "id": "eoDzhhmcEK5S"
      },
      "execution_count": 2,
      "outputs": []
    },
    {
      "cell_type": "markdown",
      "metadata": {
        "id": "-sooeX5vCeTf"
      },
      "source": [
        "### Read training, dev and unlabeled test data"
      ]
    },
    {
      "cell_type": "markdown",
      "metadata": {
        "id": "17lEwcrpCeTi"
      },
      "source": [
        "The following provides a starting code (Python 3) of how to read the labeled training and dev cipher text, and unlabeled test cipher text, into lists."
      ]
    },
    {
      "cell_type": "code",
      "execution_count": 3,
      "metadata": {
        "id": "CXUe6agQCeTn"
      },
      "outputs": [],
      "source": [
        "train, dev, test = [], [], []"
      ]
    },
    {
      "cell_type": "code",
      "execution_count": 4,
      "metadata": {
        "colab": {
          "base_uri": "https://localhost:8080/"
        },
        "id": "-IO6EEEICeTp",
        "outputId": "1704e89a-77dc-4016-e27c-62710aff61ac"
      },
      "outputs": [
        {
          "output_type": "stream",
          "name": "stdout",
          "text": [
            "16220\n",
            "[[0, 'lkêcê yoúc cêêö y#êjl lw mówám Újám j Úêê# ütlk Úol lkêú z#ê ctöé8ú ówl xoóóú éê#xw#öê#c .'], [0, '6êcétlê jolêot8 zc éê#xw#öjóáê , tl zc j #jlkê# 8tcl8êcc jöÚ8ê 6wüó lkê öt668ê wx lkê #wj6 , ükê#ê lkê lkêöjltá t#wótêc j#ê lww wÚ2twoc jó6 lkê cê+oj8 éw8tltác lww cöoy .'], [0, 'tx lktc kw8t6jú öw2tê tc coééwcê6 lw Úê j ytxl , cwöêÚw6ú oóü#jééê6 tl êj#8ú , lwwm wol j88 lkê yww6 cloxx , jó6 8êxl Úêktó6 lkê á#jé ( 8tlê#j88ú ) .']]\n"
          ]
        }
      ],
      "source": [
        "for x in open('./train_enc.tsv', encoding='utf-8'):\n",
        "    x = x.rstrip('\\n\\r').split('\\t')\n",
        "    # x[0] will be the label (0 or 1), and x[1] will be the ciphertext sentence.\n",
        "    x[0] = int(x[0]) \n",
        "    train.append(x)\n",
        "print (len(train))\n",
        "print (train[:3])"
      ]
    },
    {
      "cell_type": "code",
      "execution_count": 5,
      "metadata": {
        "colab": {
          "base_uri": "https://localhost:8080/"
        },
        "id": "3lA6b9hxCeTt",
        "outputId": "cf94afea-5830-4f0d-f919-196efd30fd60"
      },
      "outputs": [
        {
          "output_type": "stream",
          "name": "stdout",
          "text": [
            "2027\n",
            "[[1, 'ów8jó Ú#j2ê8ú l#êj6c ükê#ê xêü jöê#tájó xt8öc 6j#ê lw 6ê82ê 77 tólw lkê üw#86 wx jöÚt2j8êóáê jó6 jöÚtyotlú <<<'], [0, 'ê2êó öo#ékú zc ê+éê#l áwötá ltötóy jó6 xjöê6 ákj#tcöj áj ózl #êcáoê lktc êxxw#l .'], [1, 'üt88 jcco#ê68ú #jóm jc wóê wx lkê á8ê2ê#êcl , öwcl 6êáêélt2ê8ú jöoctóy áwöê6têc wx lkê úêj# .']]\n"
          ]
        }
      ],
      "source": [
        "for x in open('./dev_enc.tsv', encoding='utf-8'):\n",
        "    x = x.rstrip('\\n\\r').split('\\t')\n",
        "    # x[0] will be the label (0 or 1), and x[1] will be the ciphertext sentence.\n",
        "    x[0] = int(x[0]) \n",
        "    dev.append(x)\n",
        "print (len(dev))\n",
        "print (dev[:3])"
      ]
    },
    {
      "cell_type": "markdown",
      "metadata": {
        "id": "_SgV5HEOCeTv"
      },
      "source": [
        "#### Different from 'train' and 'dev' that are both list of tuples, 'test' will be just a list."
      ]
    },
    {
      "cell_type": "code",
      "execution_count": 6,
      "metadata": {
        "colab": {
          "base_uri": "https://localhost:8080/"
        },
        "id": "aivKfVuzCeTx",
        "outputId": "07f2939a-f425-4275-ee16-c7f98db60855"
      },
      "outputs": [
        {
          "output_type": "stream",
          "name": "stdout",
          "text": [
            "2028\n",
            "['j 6t6jáltá jó6 6o88 6wáoöêólj#ú y8w#txútóy cwxlüj#ê jój#ákú .', 'ówlktóy cltámc , #êj88ú , ê+áêél j 8tóyê#tóy á#êêétóêcc wóê xêê8c x#wö Úêtóy 6#jyyê6 lk#woyk j cj6 , cw#6t6 oót2ê#cê wx yoóc , 6#oyc , j2j#táê jó6 6jöjyê6 6#êjöc .', 'öo#ékú jó6 üt8cwó jáloj88ú öjmê j é#êllú yww6 lêjö <<< Úol lkê é#wvêál co##woó6tóy lkêö tc 6tcl#êcctóy8ú #wlê .']\n"
          ]
        }
      ],
      "source": [
        "for x in open('./test_enc_unlabeled.tsv', encoding='utf-8'):\n",
        "    x = x.rstrip('\\n\\r')\n",
        "    test.append(x)\n",
        "print (len(test))\n",
        "print (test[:3])"
      ]
    },
    {
      "cell_type": "markdown",
      "metadata": {
        "id": "khPpcme4CeTy"
      },
      "source": [
        "#### You can split every sentence into lists of words by white spaces."
      ]
    },
    {
      "cell_type": "code",
      "execution_count": 7,
      "metadata": {
        "id": "c_Tct68vCeTz"
      },
      "outputs": [],
      "source": [
        "train_split = [[x[0], x[1].split(' ')] for x in train]\n",
        "dev_split = [[x[0], x[1].split(' ')] for x in dev]\n",
        "test_split = [[x.split(' ')] for x in test]"
      ]
    },
    {
      "cell_type": "markdown",
      "metadata": {
        "id": "fLqig3yCCeT2"
      },
      "source": [
        "### Main Code Body"
      ]
    },
    {
      "cell_type": "markdown",
      "metadata": {
        "id": "WBGrSEjJCeT6"
      },
      "source": [
        "You may choose to experiment with different methods using your program. However, you need to embed the training and inference processes at here. We will use your prediction on the unlabeled test data to grade, while checking this part to understand how your method has produced the predictions."
      ]
    },
    {
      "cell_type": "code",
      "source": [
        "X_train=[]\n",
        "Y_train=[]\n",
        "X_val=[]\n",
        "Y_val=[]\n",
        "for data in train:\n",
        "  X_train.append(data[1])\n",
        "  Y_train.append(int(data[0]))\n",
        "for data in dev:\n",
        "  X_val.append(data[1])\n",
        "  Y_val.append(int(data[0]))\n",
        "print(X_train[:2])"
      ],
      "metadata": {
        "colab": {
          "base_uri": "https://localhost:8080/"
        },
        "id": "sNhglgdkD9z8",
        "outputId": "88efb8aa-d531-4c71-c4f0-3ecd3629cc65"
      },
      "execution_count": 8,
      "outputs": [
        {
          "output_type": "stream",
          "name": "stdout",
          "text": [
            "['lkêcê yoúc cêêö y#êjl lw mówám Újám j Úêê# ütlk Úol lkêú z#ê ctöé8ú ówl xoóóú éê#xw#öê#c .', '6êcétlê jolêot8 zc éê#xw#öjóáê , tl zc j #jlkê# 8tcl8êcc jöÚ8ê 6wüó lkê öt668ê wx lkê #wj6 , ükê#ê lkê lkêöjltá t#wótêc j#ê lww wÚ2twoc jó6 lkê cê+oj8 éw8tltác lww cöoy .']\n"
          ]
        }
      ]
    },
    {
      "cell_type": "code",
      "source": [
        "X_test=[]\n",
        "for data in test:\n",
        "  X_test.append(data)\n",
        "print(len(X_test))\n",
        "print(X_test[:2])"
      ],
      "metadata": {
        "colab": {
          "base_uri": "https://localhost:8080/"
        },
        "id": "Aq7xtUymEjkt",
        "outputId": "eed72281-6788-4c0b-c7dc-3511d07da332"
      },
      "execution_count": 9,
      "outputs": [
        {
          "output_type": "stream",
          "name": "stdout",
          "text": [
            "2028\n",
            "['j 6t6jáltá jó6 6o88 6wáoöêólj#ú y8w#txútóy cwxlüj#ê jój#ákú .', 'ówlktóy cltámc , #êj88ú , ê+áêél j 8tóyê#tóy á#êêétóêcc wóê xêê8c x#wö Úêtóy 6#jyyê6 lk#woyk j cj6 , cw#6t6 oót2ê#cê wx yoóc , 6#oyc , j2j#táê jó6 6jöjyê6 6#êjöc .']\n"
          ]
        }
      ]
    },
    {
      "cell_type": "markdown",
      "source": [
        "### Checking for the dataset if it is imbalanced."
      ],
      "metadata": {
        "id": "hfEaflaAGzg1"
      }
    },
    {
      "cell_type": "code",
      "source": [
        "zero_count=0\n",
        "one_count=0\n",
        "for data in Y_train:\n",
        "  if data==0:\n",
        "    zero_count+=1\n",
        "  elif data==1:\n",
        "    one_count+=1\n",
        "print(\"zero count\",zero_count)\n",
        "print(\"one_count\",one_count)\n",
        "if len(Y_train)==(zero_count+one_count):\n",
        "  print(\"The data has no null or inappropriate data\")"
      ],
      "metadata": {
        "colab": {
          "base_uri": "https://localhost:8080/"
        },
        "id": "HWNs2RiVG8Bq",
        "outputId": "d86dbaea-56e8-402e-bf1d-ae7ea3c58d45"
      },
      "execution_count": 10,
      "outputs": [
        {
          "output_type": "stream",
          "name": "stdout",
          "text": [
            "zero count 7999\n",
            "one_count 8221\n",
            "The data has no null or inappropriate data\n"
          ]
        }
      ]
    },
    {
      "cell_type": "markdown",
      "source": [
        "## Here, since both the values of zero and one are same and the data is balanced, we don't need to provide any additional mechanism to handle the imbalanced dataset."
      ],
      "metadata": {
        "id": "CAvWYewxH1m6"
      }
    },
    {
      "cell_type": "code",
      "execution_count": 11,
      "metadata": {
        "id": "p-CXpb-TCeT7"
      },
      "outputs": [],
      "source": [
        "# Eventually, results need to be a list of 2028 0 or 1's\n",
        "results = []"
      ]
    },
    {
      "cell_type": "code",
      "execution_count": 12,
      "metadata": {
        "id": "gLPJ73iVCeT9"
      },
      "outputs": [],
      "source": [
        "from sklearn.pipeline import Pipeline\n",
        "from sklearn.svm import SVC\n",
        "from sklearn.feature_extraction.text import TfidfVectorizer"
      ]
    },
    {
      "cell_type": "code",
      "source": [
        "# text_classification=Pipeline([('tfidf', TfidfVectorizer(ngram_range = (1, 3))),\n",
        "#                      ('classification', SVC(kernel=\"linear\")),])\n",
        "# text_classification.fit(X_train,Y_train)"
      ],
      "metadata": {
        "id": "yrJz24GO30M-"
      },
      "execution_count": 13,
      "outputs": []
    },
    {
      "cell_type": "code",
      "source": [
        "# text_classification=Pipeline([('tfidf', TfidfVectorizer(ngram_range = (1, 3),binary=True)),\n",
        "#                      ('classification', SVC(kernel=\"linear\")),])\n",
        "# text_classification.fit(X_train,Y_train)"
      ],
      "metadata": {
        "id": "-1YuSBku312y"
      },
      "execution_count": 14,
      "outputs": []
    },
    {
      "cell_type": "markdown",
      "source": [
        "BERT TRY"
      ],
      "metadata": {
        "id": "8VF5dSX_5EKl"
      }
    },
    {
      "cell_type": "code",
      "source": [
        "# !pip install tensorflow-text\n",
        "# import tensorflow as tf\n",
        "# import tensorflow_hub as hub\n",
        "# import tensorflow_text as text\n",
        "# bert_preprocess = hub.KerasLayer(\"https://tfhub.dev/tensorflow/bert_en_uncased_preprocess/3\")\n",
        "# bert_encoder = hub.KerasLayer(\"https://tfhub.dev/tensorflow/bert_en_uncased_L-12_H-768_A-12/4\")\n",
        "# def get_sentence_embeding(sentences):\n",
        "#     preprocessed_text = bert_preprocess(sentences)\n",
        "#     return bert_encoder(preprocessed_text)['pooled_output']\n",
        "# # Bert layers\n",
        "# text_input = tf.keras.layers.Input(shape=(), dtype=tf.string, name='text')\n",
        "# preprocessed_text = bert_preprocess(text_input)\n",
        "# outputs = bert_encoder(preprocessed_text)\n",
        "# # Neural network layers\n",
        "# l = tf.keras.layers.Dropout(0.1, name=\"dropout\")(outputs['pooled_output'])\n",
        "# l = tf.keras.layers.Dense(1, activation='sigmoid', name=\"output\")(l)\n",
        "# model = tf.keras.Model(inputs=[text_input], outputs = [l])\n",
        "# model.summary()\n",
        "# METRICS = [\n",
        "#       tf.keras.metrics.BinaryAccuracy(name='accuracy')\n",
        "# ]\n",
        "# model.compile(optimizer='adam',\n",
        "#               loss='binary_crossentropy',\n",
        "#               metrics=METRICS)\n",
        "# from tensorflow.keras.callbacks import EarlyStopping\n",
        "# early_stopping = EarlyStopping(monitor= 'val_accuracy', \n",
        "#                                mode = 'max',\n",
        "#                                patience=10, \n",
        "#                                verbose=1)\n",
        "# model.fit(X_train, Y_train, validation_data=[X_val,Y_val], epochs=50, callbacks=[early_stopping])"
      ],
      "metadata": {
        "id": "2IynX1r24ji6"
      },
      "execution_count": 15,
      "outputs": []
    },
    {
      "cell_type": "markdown",
      "source": [
        "Fast-Text and Bidirectional LSTM- Around 87-88%"
      ],
      "metadata": {
        "id": "FjU2wq_X5Jhj"
      }
    },
    {
      "cell_type": "markdown",
      "source": [
        "TFID and Neural Network: 88%"
      ],
      "metadata": {
        "id": "PfTA21mN5hTE"
      }
    },
    {
      "cell_type": "code",
      "source": [
        "text_classification=Pipeline([('tfidf', TfidfVectorizer(ngram_range = (1, 2),binary=True)),\n",
        "                     ('classification', SVC(kernel=\"linear\")),])\n",
        "text_classification.fit(X_train,Y_train)"
      ],
      "metadata": {
        "colab": {
          "base_uri": "https://localhost:8080/"
        },
        "id": "JSANNmL-CrhC",
        "outputId": "501226f1-1b83-45fb-8333-96d628d8cab1"
      },
      "execution_count": 16,
      "outputs": [
        {
          "output_type": "execute_result",
          "data": {
            "text/plain": [
              "Pipeline(steps=[('tfidf', TfidfVectorizer(binary=True, ngram_range=(1, 2))),\n",
              "                ('classification', SVC(kernel='linear'))])"
            ]
          },
          "metadata": {},
          "execution_count": 16
        }
      ]
    },
    {
      "cell_type": "code",
      "source": [
        "predictions=text_classification.predict(X_val)"
      ],
      "metadata": {
        "id": "8aClXIpPCxdJ"
      },
      "execution_count": 17,
      "outputs": []
    },
    {
      "cell_type": "code",
      "source": [
        "from sklearn import metrics\n",
        "print(metrics.confusion_matrix(Y_val,predictions))"
      ],
      "metadata": {
        "colab": {
          "base_uri": "https://localhost:8080/"
        },
        "id": "t3jauOT7C4JG",
        "outputId": "ade6d953-222e-48fd-d4ec-f70089bbabe2"
      },
      "execution_count": 18,
      "outputs": [
        {
          "output_type": "stream",
          "name": "stdout",
          "text": [
            "[[852 100]\n",
            " [104 971]]\n"
          ]
        }
      ]
    },
    {
      "cell_type": "code",
      "source": [
        "print(metrics.classification_report(Y_val,predictions))"
      ],
      "metadata": {
        "colab": {
          "base_uri": "https://localhost:8080/"
        },
        "id": "BLzuy8BWC7G3",
        "outputId": "1552a96c-4698-411f-b6a5-3feb092c42ac"
      },
      "execution_count": 19,
      "outputs": [
        {
          "output_type": "stream",
          "name": "stdout",
          "text": [
            "              precision    recall  f1-score   support\n",
            "\n",
            "           0       0.89      0.89      0.89       952\n",
            "           1       0.91      0.90      0.90      1075\n",
            "\n",
            "    accuracy                           0.90      2027\n",
            "   macro avg       0.90      0.90      0.90      2027\n",
            "weighted avg       0.90      0.90      0.90      2027\n",
            "\n"
          ]
        }
      ]
    },
    {
      "cell_type": "code",
      "source": [
        "print(metrics.accuracy_score(Y_val,predictions))"
      ],
      "metadata": {
        "colab": {
          "base_uri": "https://localhost:8080/"
        },
        "id": "rCWPtvm-C-Wj",
        "outputId": "8b6dc0a7-603c-4c7c-d04f-75586374bc6f"
      },
      "execution_count": 20,
      "outputs": [
        {
          "output_type": "stream",
          "name": "stdout",
          "text": [
            "0.8993586581154416\n"
          ]
        }
      ]
    },
    {
      "cell_type": "code",
      "source": [
        "Y_test=text_classification.predict(X_test)"
      ],
      "metadata": {
        "id": "p9EmsNU9DFRQ"
      },
      "execution_count": 21,
      "outputs": []
    },
    {
      "cell_type": "code",
      "source": [
        "print(Y_test[:5])\n",
        "print(Y_test[-5:])"
      ],
      "metadata": {
        "colab": {
          "base_uri": "https://localhost:8080/"
        },
        "id": "XdApioKiDzqC",
        "outputId": "b0441426-940e-4976-e696-e0872954f9f5"
      },
      "execution_count": 22,
      "outputs": [
        {
          "output_type": "stream",
          "name": "stdout",
          "text": [
            "[0 0 0 0 0]\n",
            "[0 1 1 1 1]\n"
          ]
        }
      ]
    },
    {
      "cell_type": "code",
      "source": [
        "#Checking the data only\n",
        "print(len(Y_test))\n",
        "zero_count=0\n",
        "one_count=0\n",
        "for data in Y_test:\n",
        "  if data==0:\n",
        "    zero_count+=1\n",
        "  elif data==1:\n",
        "    one_count+=1\n",
        "print(\"zero count\",zero_count)\n",
        "print(\"One count\",one_count)\n"
      ],
      "metadata": {
        "colab": {
          "base_uri": "https://localhost:8080/"
        },
        "id": "fRVj69RBLFK6",
        "outputId": "3ac688e8-5689-45b0-bedc-091febead4b0"
      },
      "execution_count": 23,
      "outputs": [
        {
          "output_type": "stream",
          "name": "stdout",
          "text": [
            "2028\n",
            "zero count 1024\n",
            "One count 1004\n"
          ]
        }
      ]
    },
    {
      "cell_type": "code",
      "source": [
        "for val in Y_test:\n",
        "  results.append(val)"
      ],
      "metadata": {
        "id": "EnlhxVR9LfmH"
      },
      "execution_count": 24,
      "outputs": []
    },
    {
      "cell_type": "markdown",
      "metadata": {
        "id": "AtTKmqIKCeT9"
      },
      "source": [
        "### Output Prediction Result File"
      ]
    },
    {
      "cell_type": "markdown",
      "metadata": {
        "id": "5_qXhg65CeT_"
      },
      "source": [
        "You will need to submit a prediction result file. It should have 2028 lines, every line should be either 0 or 1, which is your model's prediction on the respective test set instance."
      ]
    },
    {
      "cell_type": "code",
      "execution_count": 25,
      "metadata": {
        "id": "pwm4AN5HCeUA"
      },
      "outputs": [],
      "source": [
        "# suppose you had your model's predictions on the 2028 test cases read from test_enc_unlabeled.tsv, and \n",
        "#those results are in the list called 'results'\n",
        "assert (len(results) == 2028)"
      ]
    },
    {
      "cell_type": "code",
      "execution_count": 26,
      "metadata": {
        "id": "453K_ynsCeUA"
      },
      "outputs": [],
      "source": [
        "# make sure the results are not float numbers, but intergers 0 and 1\n",
        "results = [int(x) for x in results]"
      ]
    },
    {
      "cell_type": "code",
      "execution_count": 27,
      "metadata": {
        "id": "j9f8p_ssCeUB"
      },
      "outputs": [],
      "source": [
        "# write your prediction results to 'upload_predictions.txt' and upload that later\n",
        "with open('upload_predictions.txt', 'w', encoding = 'utf-8') as fp:\n",
        "    for x in results:\n",
        "        fp.write(str(x) + '\\n')"
      ]
    }
  ],
  "metadata": {
    "kernelspec": {
      "display_name": "Python 3",
      "language": "python",
      "name": "python3"
    },
    "language_info": {
      "codemirror_mode": {
        "name": "ipython",
        "version": 3
      },
      "file_extension": ".py",
      "mimetype": "text/x-python",
      "name": "python",
      "nbconvert_exporter": "python",
      "pygments_lexer": "ipython3",
      "version": "3.8.3"
    },
    "colab": {
      "provenance": [],
      "collapsed_sections": []
    }
  },
  "nbformat": 4,
  "nbformat_minor": 0
}